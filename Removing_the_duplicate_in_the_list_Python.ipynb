{
  "nbformat": 4,
  "nbformat_minor": 0,
  "metadata": {
    "colab": {
      "provenance": []
    },
    "kernelspec": {
      "name": "python3",
      "display_name": "Python 3"
    },
    "language_info": {
      "name": "python"
    }
  },
  "cells": [
    {
      "cell_type": "markdown",
      "source": [
        "Write a Python program to remove the duplicate items from the list?"
      ],
      "metadata": {
        "id": "2f_8zWILK57_"
      }
    },
    {
      "cell_type": "code",
      "execution_count": null,
      "metadata": {
        "colab": {
          "base_uri": "https://localhost:8080/"
        },
        "id": "togQdkdtKe8M",
        "outputId": "84d9cfe9-99ac-481c-b277-60ec922ac44f"
      },
      "outputs": [
        {
          "output_type": "stream",
          "name": "stdout",
          "text": [
            "5\n",
            "10 20 30 20 10\n",
            "Non-duplicate items:\n",
            "[10, 20, 30]\n"
          ]
        }
      ],
      "source": [
        "size_of_list=int(input())\n",
        "list_1=list(map(int,input().split()))\n",
        "b=[]\n",
        "unique = []\n",
        "for x in list_1:\n",
        "    if x not in b:\n",
        "        unique.append(x)\n",
        "        b.append(x)\n",
        "print(\"Non-duplicate items:\")\n",
        "print(unique)"
      ]
    },
    {
      "cell_type": "markdown",
      "source": [
        "Write a Python program to swap the first and last value of the list?"
      ],
      "metadata": {
        "id": "6l30KEhPPcU1"
      }
    },
    {
      "cell_type": "code",
      "source": [
        "size_of_list_1=int(input())\n",
        "list_1=list(map(int,input().split()))\n",
        "list_1[0]=list_1[0]+list_1[-1]\n",
        "list_1[-1]=list_1[0]-list_1[-1]\n",
        "list_1[0]=list_1[0]-list_1[-1]\n",
        "print(list_1)"
      ],
      "metadata": {
        "colab": {
          "base_uri": "https://localhost:8080/"
        },
        "id": "Y5Kh84IuK3eL",
        "outputId": "1034b0c4-09ee-4c35-b684-451fe8b54d68"
      },
      "execution_count": null,
      "outputs": [
        {
          "output_type": "stream",
          "name": "stdout",
          "text": [
            "5\n",
            "12 6 26 10 67\n",
            "[67, 6, 26, 10, 12]\n"
          ]
        }
      ]
    },
    {
      "cell_type": "code",
      "source": [],
      "metadata": {
        "id": "n_FxZ431P6Vo"
      },
      "execution_count": null,
      "outputs": []
    }
  ]
}